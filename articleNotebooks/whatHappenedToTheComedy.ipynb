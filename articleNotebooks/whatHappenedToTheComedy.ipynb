{
 "cells": [
  {
   "cell_type": "markdown",
   "metadata": {},
   "source": [
    "### Imports"
   ]
  },
  {
   "cell_type": "code",
   "execution_count": 1,
   "metadata": {},
   "outputs": [
    {
     "name": "stderr",
     "output_type": "stream",
     "text": [
      "\n",
      "Bad key scatter.alpha in file ../assets/plot_styles.mplstyle, line 48 ('scatter.alpha: .5')\n",
      "You probably need to get an updated matplotlibrc file from\n",
      "https://github.com/matplotlib/matplotlib/blob/v3.9.2/lib/matplotlib/mpl-data/matplotlibrc\n",
      "or from the matplotlib source distribution\n"
     ]
    }
   ],
   "source": [
    "import pandas as pd\n",
    "import statsmodels as sm\n",
    "import os\n",
    "from tabulate import tabulate\n",
    "import plotly.express as px\n",
    "import plotly.graph_objects as go\n",
    "from plotly.subplots import make_subplots\n",
    "import matplotlib.pyplot as plt\n",
    "plt.style.use(\"../assets/plot_styles.mplstyle\")\n",
    "\n",
    "import numpy as np\n",
    "from sklearn.preprocessing import RobustScaler\n",
    "import arrow\n",
    "import sys\n",
    "from collections import Counter\n",
    "sys.path.append('../library')\n",
    "import ast\n",
    "\n",
    "from tqdm import tqdm\n",
    "import itertools\n",
    "\n",
    "from midStats import *\n",
    "from core import *\n",
    "from plotting import *\n",
    "\n",
    "colorPalette = loadPalette()"
   ]
  },
  {
   "cell_type": "markdown",
   "metadata": {},
   "source": [
    "### Overall Script Flow\n",
    "- We're going to look at the composition of weekly top tens as a function of time"
   ]
  },
  {
   "cell_type": "markdown",
   "metadata": {},
   "source": [
    "### Load Data"
   ]
  },
  {
   "cell_type": "code",
   "execution_count": 2,
   "metadata": {},
   "outputs": [
    {
     "name": "stderr",
     "output_type": "stream",
     "text": [
      "/var/folders/zz/znvh8gg96055nsx1ptsrmmvc0000gn/T/ipykernel_64199/1070615201.py:1: DtypeWarning: Columns (1,24,27,29) have mixed types. Specify dtype option on import or set low_memory=False.\n",
      "  tmdbDf = pd.read_csv(os.path.join('../data/', 'tmdbDetails.csv'))\n"
     ]
    }
   ],
   "source": [
    "tmdbDf = pd.read_csv(os.path.join('../data/', 'tmdbDetails.csv'))\n",
    "tmdbDf.drop_duplicates(inplace=True, keep='last')\n",
    "\n",
    "bomDf = pd.read_csv(os.path.join('../data/', 'allBoxOffice.csv'))\n",
    "bomDf.drop_duplicates(subset=['imdbId','dayNumber'], inplace=True, keep = 'last')\n",
    "bomDf.dropna(subset=['date'], inplace=True)"
   ]
  },
  {
   "cell_type": "markdown",
   "metadata": {},
   "source": [
    "### Global Vars"
   ]
  },
  {
   "cell_type": "code",
   "execution_count": 3,
   "metadata": {},
   "outputs": [],
   "source": [
    "plotWidth = 600\n",
    "plotHeight = 600\n",
    "saveImagePath = '../assets/savedImages/whatHappenedToTheComedy'\n",
    "\n",
    "if not os.path.exists(saveImagePath):\n",
    "    os.makedirs(saveImagePath)"
   ]
  },
  {
   "cell_type": "markdown",
   "metadata": {},
   "source": [
    "### Get ranks of every week since earliest timestamp"
   ]
  },
  {
   "cell_type": "code",
   "execution_count": 24,
   "metadata": {},
   "outputs": [],
   "source": [
    "bomDf['dateTs'] = pd.to_datetime(bomDf['date'])\n",
    "bomDf['dateAr'] = bomDf['date'].apply(lambda x: arrow.get(x))\n",
    "\n",
    "earliestDate = arrow.get(bomDf['dateTs'].min())\n",
    "latestDate = arrow.now()\n",
    "\n",
    "earliestDateDOW = earliestDate.format('dddd')\n",
    "latestDateDOW = latestDate.format('dddd')"
   ]
  },
  {
   "cell_type": "code",
   "execution_count": 25,
   "metadata": {},
   "outputs": [],
   "source": [
    "earliestValidDateStr = earliestDate.format('YYYY-MM-DDTHH:mm:ss')\n",
    "earliestValidDateMd  = pd.to_datetime(earliestValidDateStr, utc=True)\n",
    "latestValidDateStr   = latestDate.format('YYYY-MM-DDTHH:mm:ss')\n",
    "latestValidDateMd    = pd.to_datetime(latestValidDateStr, utc=True)"
   ]
  },
  {
   "cell_type": "code",
   "execution_count": 26,
   "metadata": {},
   "outputs": [],
   "source": [
    "bomDf = bomDf[bomDf['dateTs'] >= earliestValidDateMd]\n",
    "bomDf = bomDf[bomDf['dateTs'] <= latestValidDateMd]"
   ]
  },
  {
   "cell_type": "code",
   "execution_count": 27,
   "metadata": {},
   "outputs": [],
   "source": [
    "weeks = createSlidingWindows(l = list(arrow.Arrow.range('day', earliestValidDate, latestValidDate)), windowSize=7, overlap=0)\n",
    "weeks = {i:{'dates':set(w)} for i,w in enumerate(weeks)}"
   ]
  },
  {
   "cell_type": "code",
   "execution_count": 28,
   "metadata": {},
   "outputs": [],
   "source": [
    "bomDict = bomDf.to_dict('records') # Don't want to use modin or pandas for this"
   ]
  },
  {
   "cell_type": "code",
   "execution_count": 66,
   "metadata": {},
   "outputs": [],
   "source": [
    "def makeYearWeek(dateTs):\n",
    "    date = arrow.get(dateTs)\n",
    "    year, week, _ = date.isocalendar()\n",
    "    month = date.month\n",
    "\n",
    "    return year, week, month\n",
    "\n",
    "yearWeek = bomDf['dateTs'].apply(lambda x: makeYearWeek(x))\n",
    "\n",
    "grouper = ['year', 'month']\n",
    "\n",
    "bomDf[['year','week', 'month']] = yearWeek.to_list()"
   ]
  },
  {
   "cell_type": "code",
   "execution_count": 68,
   "metadata": {},
   "outputs": [],
   "source": [
    "genreDict = tmdbDf.set_index('imdb_id')['genres'].to_dict()\n",
    "bomDf['genres'] = bomDf['imdbId'].map(genreDict)"
   ]
  },
  {
   "cell_type": "code",
   "execution_count": 69,
   "metadata": {},
   "outputs": [
    {
     "name": "stderr",
     "output_type": "stream",
     "text": [
      "/var/folders/zz/znvh8gg96055nsx1ptsrmmvc0000gn/T/ipykernel_64199/3033879109.py:8: DeprecationWarning: DataFrameGroupBy.apply operated on the grouping columns. This behavior is deprecated, and in a future version of pandas the grouping columns will be excluded from the operation. Either pass `include_groups=False` to exclude the groupings or explicitly select the grouping columns after groupby to silence this warning.\n",
      "  g = bomDf.groupby(grouper).apply(lambda group: getRankings(group))\n"
     ]
    }
   ],
   "source": [
    "def getRankings(group):\n",
    "    returnCols = ['rank','imdbId','genres']\n",
    "\n",
    "    groupOut = group[returnCols].drop_duplicates(subset = ['rank','imdbId'], keep='last')\n",
    "\n",
    "    return groupOut\n",
    "\n",
    "g = bomDf.groupby(grouper).apply(lambda group: getRankings(group))\n",
    "g.reset_index(drop=False, inplace=True)\n"
   ]
  },
  {
   "cell_type": "code",
   "execution_count": 70,
   "metadata": {},
   "outputs": [],
   "source": [
    "g = g[g['rank'] != '-']\n",
    "\n",
    "g['rank'] = g['rank'].astype(int)\n",
    "\n",
    "for group in grouper:\n",
    "    g[group] = g[group].astype(int)\n",
    "\n",
    "sortOrder = [True for e in range(len(grouper))] + [False]\n",
    "g.sort_values(by=grouper + ['rank'], ascending = sortOrder, inplace=True)"
   ]
  },
  {
   "cell_type": "code",
   "execution_count": 71,
   "metadata": {},
   "outputs": [],
   "source": [
    "def extractGenres(g):\n",
    "    gList = ast.literal_eval(g)\n",
    "    genOut = [e['name'] for e in gList]\n",
    "    return genOut\n",
    "\n",
    "g['genresExtracted'] = g['genres'].apply(lambda x: extractGenres(x))"
   ]
  },
  {
   "cell_type": "code",
   "execution_count": 72,
   "metadata": {},
   "outputs": [],
   "source": [
    "topTen = g[g['rank'] <= 10]"
   ]
  },
  {
   "cell_type": "code",
   "execution_count": 73,
   "metadata": {},
   "outputs": [],
   "source": [
    "topTenGenres = topTen.groupby(grouper)['genresExtracted'].agg(lambda x: sum(x, []))"
   ]
  },
  {
   "cell_type": "code",
   "execution_count": 74,
   "metadata": {},
   "outputs": [],
   "source": [
    "topTenGenresDf = pd.DataFrame(topTenGenres)"
   ]
  },
  {
   "cell_type": "code",
   "execution_count": 75,
   "metadata": {},
   "outputs": [],
   "source": [
    "topTenGenresDf.tail(50)\n",
    "\n",
    "omitGenres = ['TV Movie','Music','History','']\n",
    "\n",
    "genreMap = {\n",
    "    'Action/Thriller': ['Action','Thriller','Crime','Western','War','Mystery', 'Adventure'],\n",
    "    'Romance': ['Romance'],\n",
    "    'Animated': ['Animation'],\n",
    "    'Sci-Fi/Fantasy': ['Science Fiction','Fantasy'],\n",
    "    'Comedy': ['Comedy'],\n",
    "    'Drama': ['Drama'],\n",
    "    'Documentary':['Documentary']\n",
    "}\n",
    "\n",
    "allGenres = list(genreMap.keys())\n",
    "\n",
    "def calculateRatios(lst):\n",
    "    lstMapped = list(flattenWithGenerator([[k for k,v in genreMap.items() if el in v] for el in lst]))\n",
    "\n",
    "    total_count = len(lstMapped)\n",
    "    counter = Counter(lstMapped)\n",
    "    proportions = {key: value / total_count for key, value in counter.items()}\n",
    "\n",
    "    for key in genreMap.keys():\n",
    "        if key not in proportions.keys():\n",
    "            proportions[key] = 0\n",
    "\n",
    "    return proportions\n",
    "\n",
    "topTenGenresDf['proportions'] = topTenGenresDf['genresExtracted'].apply(lambda x: calculateRatios(x))"
   ]
  },
  {
   "cell_type": "code",
   "execution_count": 77,
   "metadata": {},
   "outputs": [
    {
     "data": {
      "text/plain": [
       "MultiIndex([(1948,  7),\n",
       "            (1957,  1),\n",
       "            (1957,  2),\n",
       "            (1972,  3),\n",
       "            (1972,  4),\n",
       "            (1978,  2),\n",
       "            (1980,  4),\n",
       "            (1980,  9),\n",
       "            (1980, 10),\n",
       "            (1980, 12),\n",
       "            ...\n",
       "            (2023, 12),\n",
       "            (2024,  1),\n",
       "            (2024,  2),\n",
       "            (2024,  3),\n",
       "            (2024,  4),\n",
       "            (2024,  5),\n",
       "            (2024,  6),\n",
       "            (2024,  7),\n",
       "            (2024,  8),\n",
       "            (2024,  9)],\n",
       "           names=['year', 'month'], length=510)"
      ]
     },
     "execution_count": 77,
     "metadata": {},
     "output_type": "execute_result"
    }
   ],
   "source": [
    "plotDf.index"
   ]
  },
  {
   "cell_type": "code",
   "execution_count": 84,
   "metadata": {},
   "outputs": [
    {
     "data": {
      "text/html": [
       "<div>\n",
       "<style scoped>\n",
       "    .dataframe tbody tr th:only-of-type {\n",
       "        vertical-align: middle;\n",
       "    }\n",
       "\n",
       "    .dataframe tbody tr th {\n",
       "        vertical-align: top;\n",
       "    }\n",
       "\n",
       "    .dataframe thead th {\n",
       "        text-align: right;\n",
       "    }\n",
       "</style>\n",
       "<table border=\"1\" class=\"dataframe\">\n",
       "  <thead>\n",
       "    <tr style=\"text-align: right;\">\n",
       "      <th></th>\n",
       "      <th></th>\n",
       "      <th>Action/Thriller</th>\n",
       "      <th>Romance</th>\n",
       "      <th>Animated</th>\n",
       "      <th>Sci-Fi/Fantasy</th>\n",
       "      <th>Comedy</th>\n",
       "      <th>Drama</th>\n",
       "      <th>Documentary</th>\n",
       "    </tr>\n",
       "    <tr>\n",
       "      <th>year</th>\n",
       "      <th>month</th>\n",
       "      <th></th>\n",
       "      <th></th>\n",
       "      <th></th>\n",
       "      <th></th>\n",
       "      <th></th>\n",
       "      <th></th>\n",
       "      <th></th>\n",
       "    </tr>\n",
       "  </thead>\n",
       "  <tbody>\n",
       "    <tr>\n",
       "      <th>1978</th>\n",
       "      <th>2</th>\n",
       "      <td>0.750000</td>\n",
       "      <td>0.000000</td>\n",
       "      <td>0.000000</td>\n",
       "      <td>0.000000</td>\n",
       "      <td>0.000000</td>\n",
       "      <td>0.250000</td>\n",
       "      <td>0.000000</td>\n",
       "    </tr>\n",
       "    <tr>\n",
       "      <th rowspan=\"4\" valign=\"top\">1980</th>\n",
       "      <th>4</th>\n",
       "      <td>0.000000</td>\n",
       "      <td>0.000000</td>\n",
       "      <td>0.000000</td>\n",
       "      <td>0.000000</td>\n",
       "      <td>1.000000</td>\n",
       "      <td>0.000000</td>\n",
       "      <td>0.000000</td>\n",
       "    </tr>\n",
       "    <tr>\n",
       "      <th>9</th>\n",
       "      <td>0.000000</td>\n",
       "      <td>0.333333</td>\n",
       "      <td>0.000000</td>\n",
       "      <td>0.000000</td>\n",
       "      <td>0.333333</td>\n",
       "      <td>0.333333</td>\n",
       "      <td>0.000000</td>\n",
       "    </tr>\n",
       "    <tr>\n",
       "      <th>10</th>\n",
       "      <td>0.000000</td>\n",
       "      <td>0.333333</td>\n",
       "      <td>0.000000</td>\n",
       "      <td>0.333333</td>\n",
       "      <td>0.000000</td>\n",
       "      <td>0.333333</td>\n",
       "      <td>0.000000</td>\n",
       "    </tr>\n",
       "    <tr>\n",
       "      <th>12</th>\n",
       "      <td>0.333333</td>\n",
       "      <td>0.000000</td>\n",
       "      <td>0.000000</td>\n",
       "      <td>0.333333</td>\n",
       "      <td>0.333333</td>\n",
       "      <td>0.000000</td>\n",
       "      <td>0.000000</td>\n",
       "    </tr>\n",
       "    <tr>\n",
       "      <th>...</th>\n",
       "      <th>...</th>\n",
       "      <td>...</td>\n",
       "      <td>...</td>\n",
       "      <td>...</td>\n",
       "      <td>...</td>\n",
       "      <td>...</td>\n",
       "      <td>...</td>\n",
       "      <td>...</td>\n",
       "    </tr>\n",
       "    <tr>\n",
       "      <th rowspan=\"5\" valign=\"top\">2024</th>\n",
       "      <th>5</th>\n",
       "      <td>0.383333</td>\n",
       "      <td>0.083333</td>\n",
       "      <td>0.066667</td>\n",
       "      <td>0.066667</td>\n",
       "      <td>0.083333</td>\n",
       "      <td>0.283333</td>\n",
       "      <td>0.033333</td>\n",
       "    </tr>\n",
       "    <tr>\n",
       "      <th>6</th>\n",
       "      <td>0.238095</td>\n",
       "      <td>0.095238</td>\n",
       "      <td>0.000000</td>\n",
       "      <td>0.095238</td>\n",
       "      <td>0.190476</td>\n",
       "      <td>0.238095</td>\n",
       "      <td>0.142857</td>\n",
       "    </tr>\n",
       "    <tr>\n",
       "      <th>7</th>\n",
       "      <td>0.382353</td>\n",
       "      <td>0.000000</td>\n",
       "      <td>0.088235</td>\n",
       "      <td>0.147059</td>\n",
       "      <td>0.235294</td>\n",
       "      <td>0.117647</td>\n",
       "      <td>0.029412</td>\n",
       "    </tr>\n",
       "    <tr>\n",
       "      <th>8</th>\n",
       "      <td>0.250000</td>\n",
       "      <td>0.025000</td>\n",
       "      <td>0.150000</td>\n",
       "      <td>0.075000</td>\n",
       "      <td>0.400000</td>\n",
       "      <td>0.100000</td>\n",
       "      <td>0.000000</td>\n",
       "    </tr>\n",
       "    <tr>\n",
       "      <th>9</th>\n",
       "      <td>0.250000</td>\n",
       "      <td>0.000000</td>\n",
       "      <td>0.250000</td>\n",
       "      <td>0.000000</td>\n",
       "      <td>0.375000</td>\n",
       "      <td>0.125000</td>\n",
       "      <td>0.000000</td>\n",
       "    </tr>\n",
       "  </tbody>\n",
       "</table>\n",
       "<p>505 rows × 7 columns</p>\n",
       "</div>"
      ],
      "text/plain": [
       "            Action/Thriller   Romance  Animated  Sci-Fi/Fantasy    Comedy  \\\n",
       "year month                                                                  \n",
       "1978 2             0.750000  0.000000  0.000000        0.000000  0.000000   \n",
       "1980 4             0.000000  0.000000  0.000000        0.000000  1.000000   \n",
       "     9             0.000000  0.333333  0.000000        0.000000  0.333333   \n",
       "     10            0.000000  0.333333  0.000000        0.333333  0.000000   \n",
       "     12            0.333333  0.000000  0.000000        0.333333  0.333333   \n",
       "...                     ...       ...       ...             ...       ...   \n",
       "2024 5             0.383333  0.083333  0.066667        0.066667  0.083333   \n",
       "     6             0.238095  0.095238  0.000000        0.095238  0.190476   \n",
       "     7             0.382353  0.000000  0.088235        0.147059  0.235294   \n",
       "     8             0.250000  0.025000  0.150000        0.075000  0.400000   \n",
       "     9             0.250000  0.000000  0.250000        0.000000  0.375000   \n",
       "\n",
       "               Drama  Documentary  \n",
       "year month                         \n",
       "1978 2      0.250000     0.000000  \n",
       "1980 4      0.000000     0.000000  \n",
       "     9      0.333333     0.000000  \n",
       "     10     0.333333     0.000000  \n",
       "     12     0.000000     0.000000  \n",
       "...              ...          ...  \n",
       "2024 5      0.283333     0.033333  \n",
       "     6      0.238095     0.142857  \n",
       "     7      0.117647     0.029412  \n",
       "     8      0.100000     0.000000  \n",
       "     9      0.125000     0.000000  \n",
       "\n",
       "[505 rows x 7 columns]"
      ]
     },
     "execution_count": 84,
     "metadata": {},
     "output_type": "execute_result"
    }
   ],
   "source": [
    "plotDf"
   ]
  },
  {
   "cell_type": "code",
   "execution_count": 83,
   "metadata": {},
   "outputs": [
    {
     "ename": "TypeError",
     "evalue": "ufunc 'isfinite' not supported for the input types, and the inputs could not be safely coerced to any supported types according to the casting rule ''safe''",
     "output_type": "error",
     "traceback": [
      "\u001b[0;31m---------------------------------------------------------------------------\u001b[0m",
      "\u001b[0;31mTypeError\u001b[0m                                 Traceback (most recent call last)",
      "Cell \u001b[0;32mIn[83], line 19\u001b[0m\n\u001b[1;32m     16\u001b[0m fig, ax \u001b[38;5;241m=\u001b[39m plt\u001b[38;5;241m.\u001b[39msubplots(figsize\u001b[38;5;241m=\u001b[39m(\u001b[38;5;241m10\u001b[39m, \u001b[38;5;241m6\u001b[39m))\n\u001b[1;32m     18\u001b[0m \u001b[38;5;66;03m# Plotting the stack plot\u001b[39;00m\n\u001b[0;32m---> 19\u001b[0m ax\u001b[38;5;241m.\u001b[39mstackplot(plotDf\u001b[38;5;241m.\u001b[39mindex, plotDf\u001b[38;5;241m.\u001b[39mT, labels\u001b[38;5;241m=\u001b[39mplotDf\u001b[38;5;241m.\u001b[39mcolumns)\n\u001b[1;32m     21\u001b[0m \u001b[38;5;66;03m# Adding labels and title\u001b[39;00m\n\u001b[1;32m     22\u001b[0m ax\u001b[38;5;241m.\u001b[39mset_title(\u001b[38;5;124m'\u001b[39m\u001b[38;5;124mTime Series Stack Plot of Genres\u001b[39m\u001b[38;5;124m'\u001b[39m)\n",
      "File \u001b[0;32m/opt/miniconda3/envs/mid/lib/python3.12/site-packages/matplotlib/__init__.py:1473\u001b[0m, in \u001b[0;36m_preprocess_data.<locals>.inner\u001b[0;34m(ax, data, *args, **kwargs)\u001b[0m\n\u001b[1;32m   1470\u001b[0m \u001b[38;5;129m@functools\u001b[39m\u001b[38;5;241m.\u001b[39mwraps(func)\n\u001b[1;32m   1471\u001b[0m \u001b[38;5;28;01mdef\u001b[39;00m \u001b[38;5;21minner\u001b[39m(ax, \u001b[38;5;241m*\u001b[39margs, data\u001b[38;5;241m=\u001b[39m\u001b[38;5;28;01mNone\u001b[39;00m, \u001b[38;5;241m*\u001b[39m\u001b[38;5;241m*\u001b[39mkwargs):\n\u001b[1;32m   1472\u001b[0m     \u001b[38;5;28;01mif\u001b[39;00m data \u001b[38;5;129;01mis\u001b[39;00m \u001b[38;5;28;01mNone\u001b[39;00m:\n\u001b[0;32m-> 1473\u001b[0m         \u001b[38;5;28;01mreturn\u001b[39;00m func(\n\u001b[1;32m   1474\u001b[0m             ax,\n\u001b[1;32m   1475\u001b[0m             \u001b[38;5;241m*\u001b[39m\u001b[38;5;28mmap\u001b[39m(sanitize_sequence, args),\n\u001b[1;32m   1476\u001b[0m             \u001b[38;5;241m*\u001b[39m\u001b[38;5;241m*\u001b[39m{k: sanitize_sequence(v) \u001b[38;5;28;01mfor\u001b[39;00m k, v \u001b[38;5;129;01min\u001b[39;00m kwargs\u001b[38;5;241m.\u001b[39mitems()})\n\u001b[1;32m   1478\u001b[0m     bound \u001b[38;5;241m=\u001b[39m new_sig\u001b[38;5;241m.\u001b[39mbind(ax, \u001b[38;5;241m*\u001b[39margs, \u001b[38;5;241m*\u001b[39m\u001b[38;5;241m*\u001b[39mkwargs)\n\u001b[1;32m   1479\u001b[0m     auto_label \u001b[38;5;241m=\u001b[39m (bound\u001b[38;5;241m.\u001b[39marguments\u001b[38;5;241m.\u001b[39mget(label_namer)\n\u001b[1;32m   1480\u001b[0m                   \u001b[38;5;129;01mor\u001b[39;00m bound\u001b[38;5;241m.\u001b[39mkwargs\u001b[38;5;241m.\u001b[39mget(label_namer))\n",
      "File \u001b[0;32m/opt/miniconda3/envs/mid/lib/python3.12/site-packages/matplotlib/stackplot.py:132\u001b[0m, in \u001b[0;36mstackplot\u001b[0;34m(axes, x, labels, colors, hatch, baseline, *args, **kwargs)\u001b[0m\n\u001b[1;32m    129\u001b[0m     stack \u001b[38;5;241m+\u001b[39m\u001b[38;5;241m=\u001b[39m first_line\n\u001b[1;32m    131\u001b[0m \u001b[38;5;66;03m# Color between x = 0 and the first array.\u001b[39;00m\n\u001b[0;32m--> 132\u001b[0m coll \u001b[38;5;241m=\u001b[39m axes\u001b[38;5;241m.\u001b[39mfill_between(x, first_line, stack[\u001b[38;5;241m0\u001b[39m, :],\n\u001b[1;32m    133\u001b[0m                          facecolor\u001b[38;5;241m=\u001b[39m\u001b[38;5;28mnext\u001b[39m(colors),\n\u001b[1;32m    134\u001b[0m                          hatch\u001b[38;5;241m=\u001b[39m\u001b[38;5;28mnext\u001b[39m(hatch),\n\u001b[1;32m    135\u001b[0m                          label\u001b[38;5;241m=\u001b[39m\u001b[38;5;28mnext\u001b[39m(labels, \u001b[38;5;28;01mNone\u001b[39;00m),\n\u001b[1;32m    136\u001b[0m                          \u001b[38;5;241m*\u001b[39m\u001b[38;5;241m*\u001b[39mkwargs)\n\u001b[1;32m    137\u001b[0m coll\u001b[38;5;241m.\u001b[39msticky_edges\u001b[38;5;241m.\u001b[39my[:] \u001b[38;5;241m=\u001b[39m [\u001b[38;5;241m0\u001b[39m]\n\u001b[1;32m    138\u001b[0m r \u001b[38;5;241m=\u001b[39m [coll]\n",
      "File \u001b[0;32m/opt/miniconda3/envs/mid/lib/python3.12/site-packages/matplotlib/__init__.py:1473\u001b[0m, in \u001b[0;36m_preprocess_data.<locals>.inner\u001b[0;34m(ax, data, *args, **kwargs)\u001b[0m\n\u001b[1;32m   1470\u001b[0m \u001b[38;5;129m@functools\u001b[39m\u001b[38;5;241m.\u001b[39mwraps(func)\n\u001b[1;32m   1471\u001b[0m \u001b[38;5;28;01mdef\u001b[39;00m \u001b[38;5;21minner\u001b[39m(ax, \u001b[38;5;241m*\u001b[39margs, data\u001b[38;5;241m=\u001b[39m\u001b[38;5;28;01mNone\u001b[39;00m, \u001b[38;5;241m*\u001b[39m\u001b[38;5;241m*\u001b[39mkwargs):\n\u001b[1;32m   1472\u001b[0m     \u001b[38;5;28;01mif\u001b[39;00m data \u001b[38;5;129;01mis\u001b[39;00m \u001b[38;5;28;01mNone\u001b[39;00m:\n\u001b[0;32m-> 1473\u001b[0m         \u001b[38;5;28;01mreturn\u001b[39;00m func(\n\u001b[1;32m   1474\u001b[0m             ax,\n\u001b[1;32m   1475\u001b[0m             \u001b[38;5;241m*\u001b[39m\u001b[38;5;28mmap\u001b[39m(sanitize_sequence, args),\n\u001b[1;32m   1476\u001b[0m             \u001b[38;5;241m*\u001b[39m\u001b[38;5;241m*\u001b[39m{k: sanitize_sequence(v) \u001b[38;5;28;01mfor\u001b[39;00m k, v \u001b[38;5;129;01min\u001b[39;00m kwargs\u001b[38;5;241m.\u001b[39mitems()})\n\u001b[1;32m   1478\u001b[0m     bound \u001b[38;5;241m=\u001b[39m new_sig\u001b[38;5;241m.\u001b[39mbind(ax, \u001b[38;5;241m*\u001b[39margs, \u001b[38;5;241m*\u001b[39m\u001b[38;5;241m*\u001b[39mkwargs)\n\u001b[1;32m   1479\u001b[0m     auto_label \u001b[38;5;241m=\u001b[39m (bound\u001b[38;5;241m.\u001b[39marguments\u001b[38;5;241m.\u001b[39mget(label_namer)\n\u001b[1;32m   1480\u001b[0m                   \u001b[38;5;129;01mor\u001b[39;00m bound\u001b[38;5;241m.\u001b[39mkwargs\u001b[38;5;241m.\u001b[39mget(label_namer))\n",
      "File \u001b[0;32m/opt/miniconda3/envs/mid/lib/python3.12/site-packages/matplotlib/axes/_axes.py:5648\u001b[0m, in \u001b[0;36mAxes.fill_between\u001b[0;34m(self, x, y1, y2, where, interpolate, step, **kwargs)\u001b[0m\n\u001b[1;32m   5646\u001b[0m \u001b[38;5;28;01mdef\u001b[39;00m \u001b[38;5;21mfill_between\u001b[39m(\u001b[38;5;28mself\u001b[39m, x, y1, y2\u001b[38;5;241m=\u001b[39m\u001b[38;5;241m0\u001b[39m, where\u001b[38;5;241m=\u001b[39m\u001b[38;5;28;01mNone\u001b[39;00m, interpolate\u001b[38;5;241m=\u001b[39m\u001b[38;5;28;01mFalse\u001b[39;00m,\n\u001b[1;32m   5647\u001b[0m                  step\u001b[38;5;241m=\u001b[39m\u001b[38;5;28;01mNone\u001b[39;00m, \u001b[38;5;241m*\u001b[39m\u001b[38;5;241m*\u001b[39mkwargs):\n\u001b[0;32m-> 5648\u001b[0m     \u001b[38;5;28;01mreturn\u001b[39;00m \u001b[38;5;28mself\u001b[39m\u001b[38;5;241m.\u001b[39m_fill_between_x_or_y(\n\u001b[1;32m   5649\u001b[0m         \u001b[38;5;124m\"\u001b[39m\u001b[38;5;124mx\u001b[39m\u001b[38;5;124m\"\u001b[39m, x, y1, y2,\n\u001b[1;32m   5650\u001b[0m         where\u001b[38;5;241m=\u001b[39mwhere, interpolate\u001b[38;5;241m=\u001b[39minterpolate, step\u001b[38;5;241m=\u001b[39mstep, \u001b[38;5;241m*\u001b[39m\u001b[38;5;241m*\u001b[39mkwargs)\n",
      "File \u001b[0;32m/opt/miniconda3/envs/mid/lib/python3.12/site-packages/matplotlib/axes/_axes.py:5548\u001b[0m, in \u001b[0;36mAxes._fill_between_x_or_y\u001b[0;34m(self, ind_dir, ind, dep1, dep2, where, interpolate, step, **kwargs)\u001b[0m\n\u001b[1;32m   5544\u001b[0m         kwargs[\u001b[38;5;124m\"\u001b[39m\u001b[38;5;124mfacecolor\u001b[39m\u001b[38;5;124m\"\u001b[39m] \u001b[38;5;241m=\u001b[39m \\\n\u001b[1;32m   5545\u001b[0m             \u001b[38;5;28mself\u001b[39m\u001b[38;5;241m.\u001b[39m_get_patches_for_fill\u001b[38;5;241m.\u001b[39mget_next_color()\n\u001b[1;32m   5547\u001b[0m \u001b[38;5;66;03m# Handle united data, such as dates\u001b[39;00m\n\u001b[0;32m-> 5548\u001b[0m ind, dep1, dep2 \u001b[38;5;241m=\u001b[39m \u001b[38;5;28mmap\u001b[39m(\n\u001b[1;32m   5549\u001b[0m     ma\u001b[38;5;241m.\u001b[39mmasked_invalid, \u001b[38;5;28mself\u001b[39m\u001b[38;5;241m.\u001b[39m_process_unit_info(\n\u001b[1;32m   5550\u001b[0m         [(ind_dir, ind), (dep_dir, dep1), (dep_dir, dep2)], kwargs))\n\u001b[1;32m   5552\u001b[0m \u001b[38;5;28;01mfor\u001b[39;00m name, array \u001b[38;5;129;01min\u001b[39;00m [\n\u001b[1;32m   5553\u001b[0m         (ind_dir, ind), (\u001b[38;5;124mf\u001b[39m\u001b[38;5;124m\"\u001b[39m\u001b[38;5;132;01m{\u001b[39;00mdep_dir\u001b[38;5;132;01m}\u001b[39;00m\u001b[38;5;124m1\u001b[39m\u001b[38;5;124m\"\u001b[39m, dep1), (\u001b[38;5;124mf\u001b[39m\u001b[38;5;124m\"\u001b[39m\u001b[38;5;132;01m{\u001b[39;00mdep_dir\u001b[38;5;132;01m}\u001b[39;00m\u001b[38;5;124m2\u001b[39m\u001b[38;5;124m\"\u001b[39m, dep2)]:\n\u001b[1;32m   5554\u001b[0m     \u001b[38;5;28;01mif\u001b[39;00m array\u001b[38;5;241m.\u001b[39mndim \u001b[38;5;241m>\u001b[39m \u001b[38;5;241m1\u001b[39m:\n",
      "File \u001b[0;32m/opt/miniconda3/envs/mid/lib/python3.12/site-packages/numpy/ma/core.py:2360\u001b[0m, in \u001b[0;36mmasked_invalid\u001b[0;34m(a, copy)\u001b[0m\n\u001b[1;32m   2333\u001b[0m \u001b[38;5;250m\u001b[39m\u001b[38;5;124;03m\"\"\"\u001b[39;00m\n\u001b[1;32m   2334\u001b[0m \u001b[38;5;124;03mMask an array where invalid values occur (NaNs or infs).\u001b[39;00m\n\u001b[1;32m   2335\u001b[0m \n\u001b[0;32m   (...)\u001b[0m\n\u001b[1;32m   2357\u001b[0m \n\u001b[1;32m   2358\u001b[0m \u001b[38;5;124;03m\"\"\"\u001b[39;00m\n\u001b[1;32m   2359\u001b[0m a \u001b[38;5;241m=\u001b[39m np\u001b[38;5;241m.\u001b[39marray(a, copy\u001b[38;5;241m=\u001b[39m\u001b[38;5;28;01mFalse\u001b[39;00m, subok\u001b[38;5;241m=\u001b[39m\u001b[38;5;28;01mTrue\u001b[39;00m)\n\u001b[0;32m-> 2360\u001b[0m res \u001b[38;5;241m=\u001b[39m masked_where(\u001b[38;5;241m~\u001b[39m(np\u001b[38;5;241m.\u001b[39misfinite(a)), a, copy\u001b[38;5;241m=\u001b[39mcopy)\n\u001b[1;32m   2361\u001b[0m \u001b[38;5;66;03m# masked_invalid previously never returned nomask as a mask and doing so\u001b[39;00m\n\u001b[1;32m   2362\u001b[0m \u001b[38;5;66;03m# threw off matplotlib (gh-22842).  So use shrink=False:\u001b[39;00m\n\u001b[1;32m   2363\u001b[0m \u001b[38;5;28;01mif\u001b[39;00m res\u001b[38;5;241m.\u001b[39m_mask \u001b[38;5;129;01mis\u001b[39;00m nomask:\n",
      "\u001b[0;31mTypeError\u001b[0m: ufunc 'isfinite' not supported for the input types, and the inputs could not be safely coerced to any supported types according to the casting rule ''safe''"
     ]
    },
    {
     "data": {
      "image/png": "[encoded data removed]",
      "text/plain": [
       "<Figure size 2000x1200 with 1 Axes>"
      ]
     },
     "metadata": {},
     "output_type": "display_data"
    }
   ],
   "source": [
    "genreProps = list(topTenGenresDf['proportions'])\n",
    "\n",
    "genreData = {}\n",
    "\n",
    "for key in allGenres:\n",
    "    ps = [d[key] for d in genreProps]\n",
    "    genreData[key] = ps\n",
    "\n",
    "plotDf = pd.DataFrame(genreData)\n",
    "plotDf.index = topTenGenresDf.index\n",
    "\n",
    "filtered = plotDf.index.get_level_values('year') > 1975\n",
    "plotDf = plotDf[filtered]\n",
    "\n",
    "# Create the stack plot\n",
    "fig, ax = plt.subplots(figsize=(10, 6))\n",
    "\n",
    "# Plotting the stack plot\n",
    "ax.stackplot(plotDf.index, plotDf.T, labels=plotDf.columns)\n",
    "\n",
    "# Adding labels and title\n",
    "ax.set_title('Time Series Stack Plot of Genres')\n",
    "ax.set_xlabel('Date')\n",
    "ax.set_ylabel('Top Ten Proportion')\n",
    "ax.legend(loc='upper left')\n",
    "\n",
    "# Display the plot\n",
    "plt.show()"
   ]
  },
  {
   "cell_type": "code",
   "execution_count": null,
   "metadata": {},
   "outputs": [],
   "source": []
  }
 ],
 "metadata": {
  "kernelspec": {
   "display_name": "mid",
   "language": "python",
   "name": "python3"
  },
  "language_info": {
   "codemirror_mode": {
    "name": "ipython",
    "version": 3
   },
   "file_extension": ".py",
   "mimetype": "text/x-python",
   "name": "python",
   "nbconvert_exporter": "python",
   "pygments_lexer": "ipython3",
   "version": "3.12.4"
  }
 },
 "nbformat": 4,
 "nbformat_minor": 2
}
