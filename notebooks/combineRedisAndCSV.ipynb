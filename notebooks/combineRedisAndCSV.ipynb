{
 "cells": [
  {
   "cell_type": "markdown",
   "metadata": {},
   "source": [
    "### Imports"
   ]
  },
  {
   "cell_type": "code",
   "execution_count": 1,
   "metadata": {},
   "outputs": [],
   "source": [
    "import modin.pandas as md\n",
    "import json\n",
    "import redis\n",
    "import os"
   ]
  },
  {
   "cell_type": "markdown",
   "metadata": {},
   "source": [
    "### Load CSV Data"
   ]
  },
  {
   "cell_type": "code",
   "execution_count": 2,
   "metadata": {},
   "outputs": [
    {
     "name": "stderr",
     "output_type": "stream",
     "text": [
      "2024-09-03 07:51:45,731\tINFO worker.py:1781 -- Started a local Ray instance.\n",
      "UserWarning: `read_*` implementation has mismatches with pandas:\n",
      "Data types of partitions are different! Please refer to the troubleshooting section of the Modin documentation to fix this issue.\n"
     ]
    }
   ],
   "source": [
    "df = md.read_csv('../data/tmdbDetails.csv')\n",
    "df.drop_duplicates(inplace=True, keep='last')"
   ]
  },
  {
   "cell_type": "markdown",
   "metadata": {},
   "source": [
    "### Load Redis Data"
   ]
  },
  {
   "cell_type": "code",
   "execution_count": 3,
   "metadata": {},
   "outputs": [],
   "source": [
    "# Retrieve all Redis keys & values\n",
    "r = redis.Redis(\n",
    "    host='127.0.0.1',\n",
    "    port=6379,\n",
    "    charset=\"utf-8\",\n",
    "    decode_responses=True,\n",
    "    db=0\n",
    ")\n",
    "\n",
    "redisKeys = r.keys('*')\n",
    "redisValues = r.mget(redisKeys)\n",
    "\n",
    "redisJson = []\n",
    "\n",
    "for i, v in enumerate(redisValues):\n",
    "    try:\n",
    "        url = redisKeys[i]\n",
    "        j = json.loads(v)\n",
    "        redisJson.append(j)\n",
    "    except: # We had some test keys in the db that are not json\n",
    "        pass"
   ]
  },
  {
   "cell_type": "code",
   "execution_count": 4,
   "metadata": {},
   "outputs": [
    {
     "name": "stderr",
     "output_type": "stream",
     "text": [
      "UserWarning: `from_dict` is not currently supported by PandasOnRay, defaulting to pandas implementation.\n",
      "Please refer to https://modin.readthedocs.io/en/stable/supported_apis/defaulting_to_pandas.html for explanation.\n"
     ]
    }
   ],
   "source": [
    "redisDf = md.DataFrame.from_dict(redisJson)\n",
    "fullDf  = md.concat([df, redisDf], axis=0)"
   ]
  },
  {
   "cell_type": "code",
   "execution_count": 5,
   "metadata": {},
   "outputs": [
    {
     "name": "stdout",
     "output_type": "stream",
     "text": [
      "LENGTH OF DF: 1149980\n"
     ]
    }
   ],
   "source": [
    "fullDf.drop(columns = [c for c in fullDf.columns if 'Unnamed' in c], inplace = True)\n",
    "print(f\"LENGTH OF DF: {len(fullDf)}\")"
   ]
  },
  {
   "cell_type": "markdown",
   "metadata": {},
   "source": [
    "### Output to csv"
   ]
  },
  {
   "cell_type": "code",
   "execution_count": 10,
   "metadata": {},
   "outputs": [
    {
     "data": {
      "text/html": [
       "<div>\n",
       "<style scoped>\n",
       "    .dataframe tbody tr th:only-of-type {\n",
       "        vertical-align: middle;\n",
       "    }\n",
       "\n",
       "    .dataframe tbody tr th {\n",
       "        vertical-align: top;\n",
       "    }\n",
       "\n",
       "    .dataframe thead th {\n",
       "        text-align: right;\n",
       "    }\n",
       "</style>\n",
       "<table border=\"1\" class=\"dataframe\">\n",
       "  <thead>\n",
       "    <tr style=\"text-align: right;\">\n",
       "      <th></th>\n",
       "      <th>adult</th>\n",
       "      <th>backdrop_path</th>\n",
       "      <th>belongs_to_collection</th>\n",
       "      <th>budget</th>\n",
       "      <th>genres</th>\n",
       "      <th>homepage</th>\n",
       "      <th>id</th>\n",
       "      <th>imdb_id</th>\n",
       "      <th>origin_country</th>\n",
       "      <th>original_language</th>\n",
       "      <th>...</th>\n",
       "      <th>spoken_languages</th>\n",
       "      <th>status</th>\n",
       "      <th>tagline</th>\n",
       "      <th>title</th>\n",
       "      <th>video</th>\n",
       "      <th>vote_average</th>\n",
       "      <th>vote_count</th>\n",
       "      <th>success</th>\n",
       "      <th>status_code</th>\n",
       "      <th>status_message</th>\n",
       "    </tr>\n",
       "  </thead>\n",
       "  <tbody>\n",
       "    <tr>\n",
       "      <th>346879</th>\n",
       "      <td>False</td>\n",
       "      <td>/9SSEUrSqhljBMzRe4aBTh17rUaC.jpg</td>\n",
       "      <td>None</td>\n",
       "      <td>80000000</td>\n",
       "      <td>[{'id': 27, 'name': 'Horror'}, {'id': 878, 'na...</td>\n",
       "      <td>https://www.20thcenturystudios.com/movies/alie...</td>\n",
       "      <td>945961</td>\n",
       "      <td>tt18412256</td>\n",
       "      <td>[US]</td>\n",
       "      <td>en</td>\n",
       "      <td>...</td>\n",
       "      <td>[{'english_name': 'English', 'iso_639_1': 'en'...</td>\n",
       "      <td>Released</td>\n",
       "      <td></td>\n",
       "      <td>Alien: Romulus</td>\n",
       "      <td>False</td>\n",
       "      <td>7.171</td>\n",
       "      <td>812</td>\n",
       "      <td>NaN</td>\n",
       "      <td>NaN</td>\n",
       "      <td>NaN</td>\n",
       "    </tr>\n",
       "  </tbody>\n",
       "</table>\n",
       "<p>1 rows x 29 columns</p>\n",
       "</div>"
      ],
      "text/plain": [
       "        adult                     backdrop_path belongs_to_collection  \\\n",
       "346879  False  /9SSEUrSqhljBMzRe4aBTh17rUaC.jpg                  None   \n",
       "\n",
       "          budget                                             genres  \\\n",
       "346879  80000000  [{'id': 27, 'name': 'Horror'}, {'id': 878, 'na...   \n",
       "\n",
       "                                                 homepage      id     imdb_id  \\\n",
       "346879  https://www.20thcenturystudios.com/movies/alie...  945961  tt18412256   \n",
       "\n",
       "       origin_country original_language  ...  \\\n",
       "346879           [US]                en  ...   \n",
       "\n",
       "                                         spoken_languages    status tagline  \\\n",
       "346879  [{'english_name': 'English', 'iso_639_1': 'en'...  Released           \n",
       "\n",
       "                 title  video  vote_average  vote_count  success  status_code  \\\n",
       "346879  Alien: Romulus  False         7.171         812      NaN          NaN   \n",
       "\n",
       "        status_message  \n",
       "346879             NaN  \n",
       "\n",
       "[1 rows x 29 columns]"
      ]
     },
     "execution_count": 10,
     "metadata": {},
     "output_type": "execute_result"
    }
   ],
   "source": [
    "fullDf[fullDf['title'] == \"Alien: Romulus\"]"
   ]
  },
  {
   "cell_type": "code",
   "execution_count": 6,
   "metadata": {},
   "outputs": [],
   "source": [
    "fullDf.to_csv('../data/tmdbDetails.csv')"
   ]
  }
 ],
 "metadata": {
  "kernelspec": {
   "display_name": "mid",
   "language": "python",
   "name": "python3"
  },
  "language_info": {
   "codemirror_mode": {
    "name": "ipython",
    "version": 3
   },
   "file_extension": ".py",
   "mimetype": "text/x-python",
   "name": "python",
   "nbconvert_exporter": "python",
   "pygments_lexer": "ipython3",
   "version": "3.12.4"
  }
 },
 "nbformat": 4,
 "nbformat_minor": 2
}
